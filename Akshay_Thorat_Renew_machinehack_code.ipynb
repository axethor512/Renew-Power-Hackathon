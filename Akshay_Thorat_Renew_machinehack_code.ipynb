{
 "cells": [
  {
   "cell_type": "markdown",
   "id": "f0e011bb",
   "metadata": {},
   "source": [
    "**Importing Required Libraries**"
   ]
  },
  {
   "cell_type": "code",
   "execution_count": 1,
   "id": "ebc9a11c",
   "metadata": {},
   "outputs": [],
   "source": [
    "import pandas as pd\n",
    "import numpy as np\n",
    "import matplotlib.pyplot as plt\n",
    "import seaborn as sns"
   ]
  },
  {
   "cell_type": "code",
   "execution_count": 2,
   "id": "e528cfe5",
   "metadata": {},
   "outputs": [],
   "source": [
    "import datetime as dt"
   ]
  },
  {
   "cell_type": "markdown",
   "id": "884bfdfe",
   "metadata": {},
   "source": [
    "**Reading Dataset**"
   ]
  },
  {
   "cell_type": "code",
   "execution_count": 3,
   "id": "e09337ca",
   "metadata": {},
   "outputs": [],
   "source": [
    "train=pd.read_csv(\"train.csv\")\n",
    "test=pd.read_csv(\"test.csv\")\n",
    "submission=pd.read_csv(\"submission.csv\")"
   ]
  },
  {
   "cell_type": "code",
   "execution_count": 4,
   "id": "ea1d1ea9",
   "metadata": {},
   "outputs": [
    {
     "data": {
      "text/html": [
       "<div>\n",
       "<style scoped>\n",
       "    .dataframe tbody tr th:only-of-type {\n",
       "        vertical-align: middle;\n",
       "    }\n",
       "\n",
       "    .dataframe tbody tr th {\n",
       "        vertical-align: top;\n",
       "    }\n",
       "\n",
       "    .dataframe thead th {\n",
       "        text-align: right;\n",
       "    }\n",
       "</style>\n",
       "<table border=\"1\" class=\"dataframe\">\n",
       "  <thead>\n",
       "    <tr style=\"text-align: right;\">\n",
       "      <th></th>\n",
       "      <th>timestamp</th>\n",
       "      <th>active_power_calculated_by_converter</th>\n",
       "      <th>active_power_raw</th>\n",
       "      <th>ambient_temperature</th>\n",
       "      <th>generator_speed</th>\n",
       "      <th>generator_winding_temp_max</th>\n",
       "      <th>grid_power10min_average</th>\n",
       "      <th>nc1_inside_temp</th>\n",
       "      <th>nacelle_temp</th>\n",
       "      <th>reactice_power_calculated_by_converter</th>\n",
       "      <th>reactive_power</th>\n",
       "      <th>wind_direction_raw</th>\n",
       "      <th>wind_speed_raw</th>\n",
       "      <th>wind_speed_turbulence</th>\n",
       "      <th>turbine_id</th>\n",
       "      <th>Target</th>\n",
       "    </tr>\n",
       "  </thead>\n",
       "  <tbody>\n",
       "    <tr>\n",
       "      <th>0</th>\n",
       "      <td>2021-02-19 20:18:00</td>\n",
       "      <td>816.636759</td>\n",
       "      <td>834.917206</td>\n",
       "      <td>31.694380</td>\n",
       "      <td>1159.616602</td>\n",
       "      <td>65.954214</td>\n",
       "      <td>917.897085</td>\n",
       "      <td>31.881972</td>\n",
       "      <td>31.504713</td>\n",
       "      <td>141.457644</td>\n",
       "      <td>165.501518</td>\n",
       "      <td>280.864782</td>\n",
       "      <td>7.057000</td>\n",
       "      <td>0.544082</td>\n",
       "      <td>Turbine_108</td>\n",
       "      <td>47.582787</td>\n",
       "    </tr>\n",
       "    <tr>\n",
       "      <th>1</th>\n",
       "      <td>2021-04-27 04:55:00</td>\n",
       "      <td>419.107829</td>\n",
       "      <td>421.050873</td>\n",
       "      <td>12.894948</td>\n",
       "      <td>928.747996</td>\n",
       "      <td>59.571319</td>\n",
       "      <td>445.554250</td>\n",
       "      <td>32.423705</td>\n",
       "      <td>32.755770</td>\n",
       "      <td>89.186457</td>\n",
       "      <td>113.835236</td>\n",
       "      <td>299.552460</td>\n",
       "      <td>5.474937</td>\n",
       "      <td>0.469031</td>\n",
       "      <td>Turbine_18</td>\n",
       "      <td>46.070328</td>\n",
       "    </tr>\n",
       "    <tr>\n",
       "      <th>2</th>\n",
       "      <td>2021-01-25 06:26:00</td>\n",
       "      <td>1303.530558</td>\n",
       "      <td>1337.566142</td>\n",
       "      <td>16.648388</td>\n",
       "      <td>1201.219775</td>\n",
       "      <td>61.270498</td>\n",
       "      <td>1364.716003</td>\n",
       "      <td>11.446849</td>\n",
       "      <td>18.332985</td>\n",
       "      <td>230.622309</td>\n",
       "      <td>281.452253</td>\n",
       "      <td>84.960106</td>\n",
       "      <td>8.092457</td>\n",
       "      <td>0.622318</td>\n",
       "      <td>Turbine_105</td>\n",
       "      <td>39.989236</td>\n",
       "    </tr>\n",
       "    <tr>\n",
       "      <th>3</th>\n",
       "      <td>2021-10-30 03:47:00</td>\n",
       "      <td>61.494872</td>\n",
       "      <td>53.481008</td>\n",
       "      <td>28.388141</td>\n",
       "      <td>769.806122</td>\n",
       "      <td>40.674348</td>\n",
       "      <td>14.324897</td>\n",
       "      <td>34.253204</td>\n",
       "      <td>32.662889</td>\n",
       "      <td>66.211015</td>\n",
       "      <td>75.017531</td>\n",
       "      <td>87.261119</td>\n",
       "      <td>4.071032</td>\n",
       "      <td>0.760719</td>\n",
       "      <td>Turbine_15</td>\n",
       "      <td>46.056587</td>\n",
       "    </tr>\n",
       "    <tr>\n",
       "      <th>4</th>\n",
       "      <td>2021-03-15 00:39:00</td>\n",
       "      <td>593.514364</td>\n",
       "      <td>611.659108</td>\n",
       "      <td>31.519527</td>\n",
       "      <td>1046.916768</td>\n",
       "      <td>64.341763</td>\n",
       "      <td>599.020172</td>\n",
       "      <td>32.405586</td>\n",
       "      <td>31.466387</td>\n",
       "      <td>137.163938</td>\n",
       "      <td>160.202421</td>\n",
       "      <td>313.724818</td>\n",
       "      <td>6.357943</td>\n",
       "      <td>0.346068</td>\n",
       "      <td>Turbine_01</td>\n",
       "      <td>54.346095</td>\n",
       "    </tr>\n",
       "  </tbody>\n",
       "</table>\n",
       "</div>"
      ],
      "text/plain": [
       "             timestamp  active_power_calculated_by_converter  \\\n",
       "0  2021-02-19 20:18:00                            816.636759   \n",
       "1  2021-04-27 04:55:00                            419.107829   \n",
       "2  2021-01-25 06:26:00                           1303.530558   \n",
       "3  2021-10-30 03:47:00                             61.494872   \n",
       "4  2021-03-15 00:39:00                            593.514364   \n",
       "\n",
       "   active_power_raw  ambient_temperature  generator_speed  \\\n",
       "0        834.917206            31.694380      1159.616602   \n",
       "1        421.050873            12.894948       928.747996   \n",
       "2       1337.566142            16.648388      1201.219775   \n",
       "3         53.481008            28.388141       769.806122   \n",
       "4        611.659108            31.519527      1046.916768   \n",
       "\n",
       "   generator_winding_temp_max  grid_power10min_average  nc1_inside_temp  \\\n",
       "0                   65.954214               917.897085        31.881972   \n",
       "1                   59.571319               445.554250        32.423705   \n",
       "2                   61.270498              1364.716003        11.446849   \n",
       "3                   40.674348                14.324897        34.253204   \n",
       "4                   64.341763               599.020172        32.405586   \n",
       "\n",
       "   nacelle_temp  reactice_power_calculated_by_converter  reactive_power  \\\n",
       "0     31.504713                              141.457644      165.501518   \n",
       "1     32.755770                               89.186457      113.835236   \n",
       "2     18.332985                              230.622309      281.452253   \n",
       "3     32.662889                               66.211015       75.017531   \n",
       "4     31.466387                              137.163938      160.202421   \n",
       "\n",
       "   wind_direction_raw  wind_speed_raw  wind_speed_turbulence   turbine_id  \\\n",
       "0          280.864782        7.057000               0.544082  Turbine_108   \n",
       "1          299.552460        5.474937               0.469031   Turbine_18   \n",
       "2           84.960106        8.092457               0.622318  Turbine_105   \n",
       "3           87.261119        4.071032               0.760719   Turbine_15   \n",
       "4          313.724818        6.357943               0.346068   Turbine_01   \n",
       "\n",
       "      Target  \n",
       "0  47.582787  \n",
       "1  46.070328  \n",
       "2  39.989236  \n",
       "3  46.056587  \n",
       "4  54.346095  "
      ]
     },
     "execution_count": 4,
     "metadata": {},
     "output_type": "execute_result"
    }
   ],
   "source": [
    "train.head()"
   ]
  },
  {
   "cell_type": "markdown",
   "id": "52ff70b0",
   "metadata": {},
   "source": [
    "**Checking for possible missing values**"
   ]
  },
  {
   "cell_type": "code",
   "execution_count": 5,
   "id": "4d85c758",
   "metadata": {},
   "outputs": [
    {
     "data": {
      "text/plain": [
       "timestamp                                 0\n",
       "active_power_calculated_by_converter      0\n",
       "active_power_raw                          0\n",
       "ambient_temperature                       0\n",
       "generator_speed                           0\n",
       "generator_winding_temp_max                0\n",
       "grid_power10min_average                   0\n",
       "nc1_inside_temp                           0\n",
       "nacelle_temp                              0\n",
       "reactice_power_calculated_by_converter    0\n",
       "reactive_power                            0\n",
       "wind_direction_raw                        0\n",
       "wind_speed_raw                            0\n",
       "wind_speed_turbulence                     0\n",
       "turbine_id                                0\n",
       "Target                                    0\n",
       "dtype: int64"
      ]
     },
     "execution_count": 5,
     "metadata": {},
     "output_type": "execute_result"
    }
   ],
   "source": [
    "train.isnull().sum()"
   ]
  },
  {
   "cell_type": "code",
   "execution_count": 6,
   "id": "08745490",
   "metadata": {},
   "outputs": [
    {
     "data": {
      "text/plain": [
       "timestamp                                 0\n",
       "active_power_calculated_by_converter      0\n",
       "active_power_raw                          0\n",
       "ambient_temperature                       0\n",
       "generator_speed                           0\n",
       "generator_winding_temp_max                0\n",
       "grid_power10min_average                   0\n",
       "nc1_inside_temp                           0\n",
       "nacelle_temp                              0\n",
       "reactice_power_calculated_by_converter    0\n",
       "reactive_power                            0\n",
       "wind_direction_raw                        0\n",
       "wind_speed_raw                            0\n",
       "wind_speed_turbulence                     0\n",
       "turbine_id                                0\n",
       "dtype: int64"
      ]
     },
     "execution_count": 6,
     "metadata": {},
     "output_type": "execute_result"
    }
   ],
   "source": [
    "test.isnull().sum()"
   ]
  },
  {
   "cell_type": "markdown",
   "id": "3c4ed0ca",
   "metadata": {},
   "source": [
    "### Feature Engineering"
   ]
  },
  {
   "cell_type": "code",
   "execution_count": 7,
   "id": "3870a523",
   "metadata": {},
   "outputs": [],
   "source": [
    "#Extracting 'Hour' data from timestamp\n",
    "train['hour']=pd.to_datetime(train['timestamp']).dt.hour\n",
    "test['hour']=pd.to_datetime(test['timestamp']).dt.hour"
   ]
  },
  {
   "cell_type": "code",
   "execution_count": 8,
   "id": "2497fb3a",
   "metadata": {},
   "outputs": [],
   "source": [
    "# Extracting 'Month' data from timestamp\n",
    "train['month']=pd.to_datetime(train['timestamp']).dt.month\n",
    "test['month']=pd.to_datetime(test['timestamp']).dt.month"
   ]
  },
  {
   "cell_type": "code",
   "execution_count": 9,
   "id": "6a5c6c6e",
   "metadata": {},
   "outputs": [],
   "source": [
    "#Finding out power loss by subtracting power calculated by converter from the raw power\n",
    "train['active_power_loss']=train['active_power_raw']-train['active_power_calculated_by_converter']\n",
    "train['reactive_power_loss']=train['reactive_power']-train['reactice_power_calculated_by_converter']"
   ]
  },
  {
   "cell_type": "code",
   "execution_count": 10,
   "id": "b6d2a377",
   "metadata": {},
   "outputs": [],
   "source": [
    "test['active_power_loss']=test['active_power_raw']-test['active_power_calculated_by_converter']\n",
    "test['reactive_power_loss']=test['reactive_power']-test['reactice_power_calculated_by_converter']"
   ]
  },
  {
   "cell_type": "code",
   "execution_count": 11,
   "id": "820833a5",
   "metadata": {},
   "outputs": [],
   "source": [
    "#apparent power is a pythagoras sum of Active Power and Reactive Power\n",
    "train['apparent_power']=np.sqrt(train['active_power_calculated_by_converter'].values**2\n",
    "                                +train['reactice_power_calculated_by_converter'].values**2)"
   ]
  },
  {
   "cell_type": "code",
   "execution_count": 12,
   "id": "15ba7f1b",
   "metadata": {},
   "outputs": [],
   "source": [
    "test['apparent_power']=np.sqrt(test['active_power_calculated_by_converter'].values**2\n",
    "                               +test['reactice_power_calculated_by_converter'].values**2)"
   ]
  },
  {
   "cell_type": "markdown",
   "id": "880fe9cf",
   "metadata": {},
   "source": [
    "### Exploratory Data Anlaysis"
   ]
  },
  {
   "cell_type": "code",
   "execution_count": 13,
   "id": "daf65da8",
   "metadata": {},
   "outputs": [
    {
     "data": {
      "text/html": [
       "<div>\n",
       "<style scoped>\n",
       "    .dataframe tbody tr th:only-of-type {\n",
       "        vertical-align: middle;\n",
       "    }\n",
       "\n",
       "    .dataframe tbody tr th {\n",
       "        vertical-align: top;\n",
       "    }\n",
       "\n",
       "    .dataframe thead th {\n",
       "        text-align: right;\n",
       "    }\n",
       "</style>\n",
       "<table border=\"1\" class=\"dataframe\">\n",
       "  <thead>\n",
       "    <tr style=\"text-align: right;\">\n",
       "      <th></th>\n",
       "      <th>timestamp</th>\n",
       "      <th>active_power_calculated_by_converter</th>\n",
       "      <th>active_power_raw</th>\n",
       "      <th>ambient_temperature</th>\n",
       "      <th>generator_speed</th>\n",
       "      <th>generator_winding_temp_max</th>\n",
       "      <th>grid_power10min_average</th>\n",
       "      <th>nc1_inside_temp</th>\n",
       "      <th>nacelle_temp</th>\n",
       "      <th>reactice_power_calculated_by_converter</th>\n",
       "      <th>...</th>\n",
       "      <th>wind_direction_raw</th>\n",
       "      <th>wind_speed_raw</th>\n",
       "      <th>wind_speed_turbulence</th>\n",
       "      <th>turbine_id</th>\n",
       "      <th>Target</th>\n",
       "      <th>hour</th>\n",
       "      <th>month</th>\n",
       "      <th>active_power_loss</th>\n",
       "      <th>reactive_power_loss</th>\n",
       "      <th>apparent_power</th>\n",
       "    </tr>\n",
       "  </thead>\n",
       "  <tbody>\n",
       "    <tr>\n",
       "      <th>0</th>\n",
       "      <td>2021-02-19 20:18:00</td>\n",
       "      <td>816.636759</td>\n",
       "      <td>834.917206</td>\n",
       "      <td>31.694380</td>\n",
       "      <td>1159.616602</td>\n",
       "      <td>65.954214</td>\n",
       "      <td>917.897085</td>\n",
       "      <td>31.881972</td>\n",
       "      <td>31.504713</td>\n",
       "      <td>141.457644</td>\n",
       "      <td>...</td>\n",
       "      <td>280.864782</td>\n",
       "      <td>7.057000</td>\n",
       "      <td>0.544082</td>\n",
       "      <td>Turbine_108</td>\n",
       "      <td>47.582787</td>\n",
       "      <td>20</td>\n",
       "      <td>2</td>\n",
       "      <td>18.280446</td>\n",
       "      <td>24.043874</td>\n",
       "      <td>828.797841</td>\n",
       "    </tr>\n",
       "    <tr>\n",
       "      <th>1</th>\n",
       "      <td>2021-04-27 04:55:00</td>\n",
       "      <td>419.107829</td>\n",
       "      <td>421.050873</td>\n",
       "      <td>12.894948</td>\n",
       "      <td>928.747996</td>\n",
       "      <td>59.571319</td>\n",
       "      <td>445.554250</td>\n",
       "      <td>32.423705</td>\n",
       "      <td>32.755770</td>\n",
       "      <td>89.186457</td>\n",
       "      <td>...</td>\n",
       "      <td>299.552460</td>\n",
       "      <td>5.474937</td>\n",
       "      <td>0.469031</td>\n",
       "      <td>Turbine_18</td>\n",
       "      <td>46.070328</td>\n",
       "      <td>4</td>\n",
       "      <td>4</td>\n",
       "      <td>1.943044</td>\n",
       "      <td>24.648778</td>\n",
       "      <td>428.492236</td>\n",
       "    </tr>\n",
       "    <tr>\n",
       "      <th>2</th>\n",
       "      <td>2021-01-25 06:26:00</td>\n",
       "      <td>1303.530558</td>\n",
       "      <td>1337.566142</td>\n",
       "      <td>16.648388</td>\n",
       "      <td>1201.219775</td>\n",
       "      <td>61.270498</td>\n",
       "      <td>1364.716003</td>\n",
       "      <td>11.446849</td>\n",
       "      <td>18.332985</td>\n",
       "      <td>230.622309</td>\n",
       "      <td>...</td>\n",
       "      <td>84.960106</td>\n",
       "      <td>8.092457</td>\n",
       "      <td>0.622318</td>\n",
       "      <td>Turbine_105</td>\n",
       "      <td>39.989236</td>\n",
       "      <td>6</td>\n",
       "      <td>1</td>\n",
       "      <td>34.035583</td>\n",
       "      <td>50.829943</td>\n",
       "      <td>1323.774364</td>\n",
       "    </tr>\n",
       "    <tr>\n",
       "      <th>3</th>\n",
       "      <td>2021-10-30 03:47:00</td>\n",
       "      <td>61.494872</td>\n",
       "      <td>53.481008</td>\n",
       "      <td>28.388141</td>\n",
       "      <td>769.806122</td>\n",
       "      <td>40.674348</td>\n",
       "      <td>14.324897</td>\n",
       "      <td>34.253204</td>\n",
       "      <td>32.662889</td>\n",
       "      <td>66.211015</td>\n",
       "      <td>...</td>\n",
       "      <td>87.261119</td>\n",
       "      <td>4.071032</td>\n",
       "      <td>0.760719</td>\n",
       "      <td>Turbine_15</td>\n",
       "      <td>46.056587</td>\n",
       "      <td>3</td>\n",
       "      <td>10</td>\n",
       "      <td>-8.013865</td>\n",
       "      <td>8.806516</td>\n",
       "      <td>90.363255</td>\n",
       "    </tr>\n",
       "    <tr>\n",
       "      <th>4</th>\n",
       "      <td>2021-03-15 00:39:00</td>\n",
       "      <td>593.514364</td>\n",
       "      <td>611.659108</td>\n",
       "      <td>31.519527</td>\n",
       "      <td>1046.916768</td>\n",
       "      <td>64.341763</td>\n",
       "      <td>599.020172</td>\n",
       "      <td>32.405586</td>\n",
       "      <td>31.466387</td>\n",
       "      <td>137.163938</td>\n",
       "      <td>...</td>\n",
       "      <td>313.724818</td>\n",
       "      <td>6.357943</td>\n",
       "      <td>0.346068</td>\n",
       "      <td>Turbine_01</td>\n",
       "      <td>54.346095</td>\n",
       "      <td>0</td>\n",
       "      <td>3</td>\n",
       "      <td>18.144745</td>\n",
       "      <td>23.038483</td>\n",
       "      <td>609.157817</td>\n",
       "    </tr>\n",
       "  </tbody>\n",
       "</table>\n",
       "<p>5 rows × 21 columns</p>\n",
       "</div>"
      ],
      "text/plain": [
       "             timestamp  active_power_calculated_by_converter  \\\n",
       "0  2021-02-19 20:18:00                            816.636759   \n",
       "1  2021-04-27 04:55:00                            419.107829   \n",
       "2  2021-01-25 06:26:00                           1303.530558   \n",
       "3  2021-10-30 03:47:00                             61.494872   \n",
       "4  2021-03-15 00:39:00                            593.514364   \n",
       "\n",
       "   active_power_raw  ambient_temperature  generator_speed  \\\n",
       "0        834.917206            31.694380      1159.616602   \n",
       "1        421.050873            12.894948       928.747996   \n",
       "2       1337.566142            16.648388      1201.219775   \n",
       "3         53.481008            28.388141       769.806122   \n",
       "4        611.659108            31.519527      1046.916768   \n",
       "\n",
       "   generator_winding_temp_max  grid_power10min_average  nc1_inside_temp  \\\n",
       "0                   65.954214               917.897085        31.881972   \n",
       "1                   59.571319               445.554250        32.423705   \n",
       "2                   61.270498              1364.716003        11.446849   \n",
       "3                   40.674348                14.324897        34.253204   \n",
       "4                   64.341763               599.020172        32.405586   \n",
       "\n",
       "   nacelle_temp  reactice_power_calculated_by_converter  ...  \\\n",
       "0     31.504713                              141.457644  ...   \n",
       "1     32.755770                               89.186457  ...   \n",
       "2     18.332985                              230.622309  ...   \n",
       "3     32.662889                               66.211015  ...   \n",
       "4     31.466387                              137.163938  ...   \n",
       "\n",
       "   wind_direction_raw  wind_speed_raw  wind_speed_turbulence   turbine_id  \\\n",
       "0          280.864782        7.057000               0.544082  Turbine_108   \n",
       "1          299.552460        5.474937               0.469031   Turbine_18   \n",
       "2           84.960106        8.092457               0.622318  Turbine_105   \n",
       "3           87.261119        4.071032               0.760719   Turbine_15   \n",
       "4          313.724818        6.357943               0.346068   Turbine_01   \n",
       "\n",
       "      Target  hour  month  active_power_loss  reactive_power_loss  \\\n",
       "0  47.582787    20      2          18.280446            24.043874   \n",
       "1  46.070328     4      4           1.943044            24.648778   \n",
       "2  39.989236     6      1          34.035583            50.829943   \n",
       "3  46.056587     3     10          -8.013865             8.806516   \n",
       "4  54.346095     0      3          18.144745            23.038483   \n",
       "\n",
       "   apparent_power  \n",
       "0      828.797841  \n",
       "1      428.492236  \n",
       "2     1323.774364  \n",
       "3       90.363255  \n",
       "4      609.157817  \n",
       "\n",
       "[5 rows x 21 columns]"
      ]
     },
     "execution_count": 13,
     "metadata": {},
     "output_type": "execute_result"
    }
   ],
   "source": [
    "train.head()"
   ]
  },
  {
   "cell_type": "code",
   "execution_count": 14,
   "id": "687e9329",
   "metadata": {},
   "outputs": [],
   "source": [
    "column_names=list(train.columns)\n",
    "column_names.remove('turbine_id')\n",
    "column_names.remove('timestamp')"
   ]
  },
  {
   "cell_type": "code",
   "execution_count": 15,
   "id": "70a10834",
   "metadata": {},
   "outputs": [
    {
     "data": {
      "text/plain": [
       "['active_power_calculated_by_converter',\n",
       " 'active_power_raw',\n",
       " 'ambient_temperature',\n",
       " 'generator_speed',\n",
       " 'generator_winding_temp_max',\n",
       " 'grid_power10min_average',\n",
       " 'nc1_inside_temp',\n",
       " 'nacelle_temp',\n",
       " 'reactice_power_calculated_by_converter',\n",
       " 'reactive_power',\n",
       " 'wind_direction_raw',\n",
       " 'wind_speed_raw',\n",
       " 'wind_speed_turbulence',\n",
       " 'Target',\n",
       " 'hour',\n",
       " 'month',\n",
       " 'active_power_loss',\n",
       " 'reactive_power_loss',\n",
       " 'apparent_power']"
      ]
     },
     "execution_count": 15,
     "metadata": {},
     "output_type": "execute_result"
    }
   ],
   "source": [
    "column_names"
   ]
  },
  {
   "cell_type": "markdown",
   "id": "d9c1d653",
   "metadata": {},
   "source": [
    "### Univariate Analysis"
   ]
  },
  {
   "cell_type": "code",
   "execution_count": 16,
   "id": "58a19245",
   "metadata": {},
   "outputs": [
    {
     "name": "stderr",
     "output_type": "stream",
     "text": [
      "C:\\conda_temp\\ipykernel_12264\\2084224240.py:2: RuntimeWarning: More than 20 figures have been opened. Figures created through the pyplot interface (`matplotlib.pyplot.figure`) are retained until explicitly closed and may consume too much memory. (To control this warning, see the rcParam `figure.max_open_warning`).\n",
      "  plt.figure()\n"
     ]
    },
    {
     "data": {
      "text/plain": [
       "<Figure size 432x288 with 0 Axes>"
      ]
     },
     "metadata": {},
     "output_type": "display_data"
    },
    {
     "data": {
      "image/png": "[encoded data removed]",
      "text/plain": [
       "<Figure size 432x288 with 2 Axes>"
      ]
     },
     "metadata": {
      "needs_background": "light"
     },
     "output_type": "display_data"
    },
    {
     "data": {
      "text/plain": [
       "<Figure size 432x288 with 0 Axes>"
      ]
     },
     "metadata": {},
     "output_type": "display_data"
    },
    {
     "data": {
      "image/png": "[encoded data removed]",
      "text/plain": [
       "<Figure size 432x288 with 2 Axes>"
      ]
     },
     "metadata": {
      "needs_background": "light"
     },
     "output_type": "display_data"
    },
    {
     "data": {
      "text/plain": [
       "<Figure size 432x288 with 0 Axes>"
      ]
     },
     "metadata": {},
     "output_type": "display_data"
    },
    {
     "data": {
      "image/png": "[encoded data removed]",
      "text/plain": [
       "<Figure size 432x288 with 2 Axes>"
      ]
     },
     "metadata": {
      "needs_background": "light"
     },
     "output_type": "display_data"
    },
    {
     "data": {
      "text/plain": [
       "<Figure size 432x288 with 0 Axes>"
      ]
     },
     "metadata": {},
     "output_type": "display_data"
    },
    {
     "data": {
      "image/png": "[encoded data removed]",
      "text/plain": [
       "<Figure size 432x288 with 2 Axes>"
      ]
     },
     "metadata": {
      "needs_background": "light"
     },
     "output_type": "display_data"
    },
    {
     "data": {
      "text/plain": [
       "<Figure size 432x288 with 0 Axes>"
      ]
     },
     "metadata": {},
     "output_type": "display_data"
    },
    {
     "data": {
      "image/png": "[encoded data removed]",
      "text/plain": [
       "<Figure size 432x288 with 2 Axes>"
      ]
     },
     "metadata": {
      "needs_background": "light"
     },
     "output_type": "display_data"
    },
    {
     "data": {
      "text/plain": [
       "<Figure size 432x288 with 0 Axes>"
      ]
     },
     "metadata": {},
     "output_type": "display_data"
    },
    {
     "data": {
      "image/png": "[encoded data removed]",
      "text/plain": [
       "<Figure size 432x288 with 2 Axes>"
      ]
     },
     "metadata": {
      "needs_background": "light"
     },
     "output_type": "display_data"
    },
    {
     "data": {
      "text/plain": [
       "<Figure size 432x288 with 0 Axes>"
      ]
     },
     "metadata": {},
     "output_type": "display_data"
    },
    {
     "data": {
      "image/png": "[encoded data removed]",
      "text/plain": [
       "<Figure size 432x288 with 2 Axes>"
      ]
     },
     "metadata": {
      "needs_background": "light"
     },
     "output_type": "display_data"
    },
    {
     "data": {
      "text/plain": [
       "<Figure size 432x288 with 0 Axes>"
      ]
     },
     "metadata": {},
     "output_type": "display_data"
    },
    {
     "data": {
      "image/png": "[encoded data removed]",
      "text/plain": [
       "<Figure size 432x288 with 2 Axes>"
      ]
     },
     "metadata": {
      "needs_background": "light"
     },
     "output_type": "display_data"
    },
    {
     "data": {
      "text/plain": [
       "<Figure size 432x288 with 0 Axes>"
      ]
     },
     "metadata": {},
     "output_type": "display_data"
    },
    {
     "data": {
      "image/png": "[encoded data removed]",
      "text/plain": [
       "<Figure size 432x288 with 2 Axes>"
      ]
     },
     "metadata": {
      "needs_background": "light"
     },
     "output_type": "display_data"
    },
    {
     "data": {
      "text/plain": [
       "<Figure size 432x288 with 0 Axes>"
      ]
     },
     "metadata": {},
     "output_type": "display_data"
    },
    {
     "data": {
      "image/png": "[encoded data removed]",
      "text/plain": [
       "<Figure size 432x288 with 2 Axes>"
      ]
     },
     "metadata": {
      "needs_background": "light"
     },
     "output_type": "display_data"
    },
    {
     "data": {
      "text/plain": [
       "<Figure size 432x288 with 0 Axes>"
      ]
     },
     "metadata": {},
     "output_type": "display_data"
    },
    {
     "data": {
      "image/png": "[encoded data removed]",
      "text/plain": [
       "<Figure size 432x288 with 2 Axes>"
      ]
     },
     "metadata": {
      "needs_background": "light"
     },
     "output_type": "display_data"
    },
    {
     "data": {
      "text/plain": [
       "<Figure size 432x288 with 0 Axes>"
      ]
     },
     "metadata": {},
     "output_type": "display_data"
    },
    {
     "data": {
      "image/png": "[encoded data removed]",
      "text/plain": [
       "<Figure size 432x288 with 2 Axes>"
      ]
     },
     "metadata": {
      "needs_background": "light"
     },
     "output_type": "display_data"
    },
    {
     "data": {
      "text/plain": [
       "<Figure size 432x288 with 0 Axes>"
      ]
     },
     "metadata": {},
     "output_type": "display_data"
    },
    {
     "data": {
      "image/png": "[encoded data removed]",
      "text/plain": [
       "<Figure size 432x288 with 2 Axes>"
      ]
     },
     "metadata": {
      "needs_background": "light"
     },
     "output_type": "display_data"
    },
    {
     "data": {
      "text/plain": [
       "<Figure size 432x288 with 0 Axes>"
      ]
     },
     "metadata": {},
     "output_type": "display_data"
    },
    {
     "data": {
      "image/png": "[encoded data removed]",
      "text/plain": [
       "<Figure size 432x288 with 2 Axes>"
      ]
     },
     "metadata": {
      "needs_background": "light"
     },
     "output_type": "display_data"
    },
    {
     "data": {
      "text/plain": [
       "<Figure size 432x288 with 0 Axes>"
      ]
     },
     "metadata": {},
     "output_type": "display_data"
    },
    {
     "data": {
      "image/png": "[encoded data removed]",
      "text/plain": [
       "<Figure size 432x288 with 2 Axes>"
      ]
     },
     "metadata": {
      "needs_background": "light"
     },
     "output_type": "display_data"
    },
    {
     "data": {
      "text/plain": [
       "<Figure size 432x288 with 0 Axes>"
      ]
     },
     "metadata": {},
     "output_type": "display_data"
    },
    {
     "data": {
      "image/png": "[encoded data removed]",
      "text/plain": [
       "<Figure size 432x288 with 2 Axes>"
      ]
     },
     "metadata": {
      "needs_background": "light"
     },
     "output_type": "display_data"
    },
    {
     "data": {
      "text/plain": [
       "<Figure size 432x288 with 0 Axes>"
      ]
     },
     "metadata": {},
     "output_type": "display_data"
    },
    {
     "data": {
      "image/png": "[encoded data removed]",
      "text/plain": [
       "<Figure size 432x288 with 2 Axes>"
      ]
     },
     "metadata": {
      "needs_background": "light"
     },
     "output_type": "display_data"
    },
    {
     "data": {
      "text/plain": [
       "<Figure size 432x288 with 0 Axes>"
      ]
     },
     "metadata": {},
     "output_type": "display_data"
    },
    {
     "data": {
      "image/png": "[encoded data removed]",
      "text/plain": [
       "<Figure size 432x288 with 2 Axes>"
      ]
     },
     "metadata": {
      "needs_background": "light"
     },
     "output_type": "display_data"
    },
    {
     "data": {
      "text/plain": [
       "<Figure size 432x288 with 0 Axes>"
      ]
     },
     "metadata": {},
     "output_type": "display_data"
    },
    {
     "data": {
      "image/png": "[encoded data removed]",
      "text/plain": [
       "<Figure size 432x288 with 2 Axes>"
      ]
     },
     "metadata": {
      "needs_background": "light"
     },
     "output_type": "display_data"
    }
   ],
   "source": [
    "for i in column_names:\n",
    "    plt.figure()\n",
    "    plt.tight_layout()\n",
    "    \n",
    "    f, (ax_box, ax_kde) = plt.subplots(2, sharex=True)\n",
    "    plt.gca().set(xlabel= i,ylabel='Frequency')\n",
    "    sns.boxplot(x=train[i], ax=ax_box , linewidth= 1.0)\n",
    "    sns.kdeplot(x=train[i], ax=ax_kde)"
   ]
  },
  {
   "cell_type": "markdown",
   "id": "857a7e19",
   "metadata": {},
   "source": [
    "**Observation**:- We can observe that most of the power related features are right-skewed. Outliers are present in most of the features.  "
   ]
  },
  {
   "cell_type": "markdown",
   "id": "c82d755b",
   "metadata": {},
   "source": [
    "### Bivariate Analysis"
   ]
  },
  {
   "cell_type": "code",
   "execution_count": 17,
   "id": "a1718ffa",
   "metadata": {},
   "outputs": [],
   "source": [
    "#finding corelation among the variables\n",
    "corr=train.corr()"
   ]
  },
  {
   "cell_type": "code",
   "execution_count": 41,
   "id": "e63f89ec",
   "metadata": {},
   "outputs": [
    {
     "data": {
      "text/plain": [
       "<AxesSubplot:>"
      ]
     },
     "execution_count": 41,
     "metadata": {},
     "output_type": "execute_result"
    },
    {
     "data": {
      "image/png": "[encoded data removed]",
      "text/plain": [
       "<Figure size 432x288 with 2 Axes>"
      ]
     },
     "metadata": {
      "needs_background": "light"
     },
     "output_type": "display_data"
    }
   ],
   "source": [
    "sns.heatmap(corr,cmap='coolwarm',center=0) #used coolwarm color palatte\n",
    "#centre is at 0 to disinguish positive corelation and negative corelation"
   ]
  },
  {
   "cell_type": "markdown",
   "id": "c625bf3c",
   "metadata": {},
   "source": [
    "**Observation**:- We can observe that power related features are highly correlated to each other.Also, wind speed is correlated to other power features"
   ]
  },
  {
   "cell_type": "code",
   "execution_count": 36,
   "id": "9ff51cfb",
   "metadata": {},
   "outputs": [
    {
     "data": {
      "text/plain": [
       "<AxesSubplot:xlabel='Target', ylabel='turbine_id'>"
      ]
     },
     "execution_count": 36,
     "metadata": {},
     "output_type": "execute_result"
    },
    {
     "data": {
      "image/png": "[encoded data removed]",
      "text/plain": [
       "<Figure size 432x288 with 1 Axes>"
      ]
     },
     "metadata": {
      "needs_background": "light"
     },
     "output_type": "display_data"
    }
   ],
   "source": [
    "sns.boxplot(y=train['turbine_id'],x=train['Target'])"
   ]
  },
  {
   "cell_type": "code",
   "execution_count": 34,
   "id": "b33e5089",
   "metadata": {},
   "outputs": [
    {
     "data": {
      "text/plain": [
       "<AxesSubplot:xlabel='hour', ylabel='Target'>"
      ]
     },
     "execution_count": 34,
     "metadata": {},
     "output_type": "execute_result"
    },
    {
     "data": {
      "image/png": "[encoded data removed]",
      "text/plain": [
       "<Figure size 432x288 with 1 Axes>"
      ]
     },
     "metadata": {
      "needs_background": "light"
     },
     "output_type": "display_data"
    }
   ],
   "source": [
    "sns.boxplot(x=train['hour'],y=train['Target'])"
   ]
  },
  {
   "cell_type": "code",
   "execution_count": 33,
   "id": "2adffbe0",
   "metadata": {},
   "outputs": [
    {
     "data": {
      "text/plain": [
       "<AxesSubplot:xlabel='month', ylabel='Target'>"
      ]
     },
     "execution_count": 33,
     "metadata": {},
     "output_type": "execute_result"
    },
    {
     "data": {
      "image/png": "[encoded data removed]",
      "text/plain": [
       "<Figure size 432x288 with 1 Axes>"
      ]
     },
     "metadata": {
      "needs_background": "light"
     },
     "output_type": "display_data"
    }
   ],
   "source": [
    "sns.boxplot(x=train['month'],y=train['Target'])"
   ]
  },
  {
   "cell_type": "markdown",
   "id": "83e73b97",
   "metadata": {},
   "source": [
    "### Feature Selection"
   ]
  },
  {
   "cell_type": "code",
   "execution_count": 44,
   "id": "da15e88c",
   "metadata": {},
   "outputs": [],
   "source": [
    "from mlxtend.feature_selection import SequentialFeatureSelector as sfs\n"
   ]
  },
  {
   "cell_type": "code",
   "execution_count": 45,
   "id": "2144bf43",
   "metadata": {},
   "outputs": [],
   "source": [
    "Target=train['Target']"
   ]
  },
  {
   "cell_type": "code",
   "execution_count": 46,
   "id": "fd560721",
   "metadata": {},
   "outputs": [],
   "source": [
    "from sklearn.preprocessing import LabelEncoder"
   ]
  },
  {
   "cell_type": "code",
   "execution_count": 47,
   "id": "d5106105",
   "metadata": {},
   "outputs": [],
   "source": [
    "le=LabelEncoder()"
   ]
  },
  {
   "cell_type": "code",
   "execution_count": 48,
   "id": "c7121ada",
   "metadata": {},
   "outputs": [],
   "source": [
    "le.fit(train['turbine_id'])\n",
    "train['turbine_id']=le.transform(train['turbine_id'])\n",
    "test['turbine_id']=le.transform(test['turbine_id'])"
   ]
  },
  {
   "cell_type": "code",
   "execution_count": 49,
   "id": "9e04805b",
   "metadata": {},
   "outputs": [
    {
     "data": {
      "text/html": [
       "<div>\n",
       "<style scoped>\n",
       "    .dataframe tbody tr th:only-of-type {\n",
       "        vertical-align: middle;\n",
       "    }\n",
       "\n",
       "    .dataframe tbody tr th {\n",
       "        vertical-align: top;\n",
       "    }\n",
       "\n",
       "    .dataframe thead th {\n",
       "        text-align: right;\n",
       "    }\n",
       "</style>\n",
       "<table border=\"1\" class=\"dataframe\">\n",
       "  <thead>\n",
       "    <tr style=\"text-align: right;\">\n",
       "      <th></th>\n",
       "      <th>timestamp</th>\n",
       "      <th>active_power_calculated_by_converter</th>\n",
       "      <th>active_power_raw</th>\n",
       "      <th>ambient_temperature</th>\n",
       "      <th>generator_speed</th>\n",
       "      <th>generator_winding_temp_max</th>\n",
       "      <th>grid_power10min_average</th>\n",
       "      <th>nc1_inside_temp</th>\n",
       "      <th>nacelle_temp</th>\n",
       "      <th>reactice_power_calculated_by_converter</th>\n",
       "      <th>...</th>\n",
       "      <th>wind_direction_raw</th>\n",
       "      <th>wind_speed_raw</th>\n",
       "      <th>wind_speed_turbulence</th>\n",
       "      <th>turbine_id</th>\n",
       "      <th>Target</th>\n",
       "      <th>hour</th>\n",
       "      <th>month</th>\n",
       "      <th>active_power_loss</th>\n",
       "      <th>reactive_power_loss</th>\n",
       "      <th>apparent_power</th>\n",
       "    </tr>\n",
       "  </thead>\n",
       "  <tbody>\n",
       "    <tr>\n",
       "      <th>0</th>\n",
       "      <td>2021-02-19 20:18:00</td>\n",
       "      <td>816.636759</td>\n",
       "      <td>834.917206</td>\n",
       "      <td>31.694380</td>\n",
       "      <td>1159.616602</td>\n",
       "      <td>65.954214</td>\n",
       "      <td>917.897085</td>\n",
       "      <td>31.881972</td>\n",
       "      <td>31.504713</td>\n",
       "      <td>141.457644</td>\n",
       "      <td>...</td>\n",
       "      <td>280.864782</td>\n",
       "      <td>7.057000</td>\n",
       "      <td>0.544082</td>\n",
       "      <td>4</td>\n",
       "      <td>47.582787</td>\n",
       "      <td>20</td>\n",
       "      <td>2</td>\n",
       "      <td>18.280446</td>\n",
       "      <td>24.043874</td>\n",
       "      <td>828.797841</td>\n",
       "    </tr>\n",
       "    <tr>\n",
       "      <th>1</th>\n",
       "      <td>2021-04-27 04:55:00</td>\n",
       "      <td>419.107829</td>\n",
       "      <td>421.050873</td>\n",
       "      <td>12.894948</td>\n",
       "      <td>928.747996</td>\n",
       "      <td>59.571319</td>\n",
       "      <td>445.554250</td>\n",
       "      <td>32.423705</td>\n",
       "      <td>32.755770</td>\n",
       "      <td>89.186457</td>\n",
       "      <td>...</td>\n",
       "      <td>299.552460</td>\n",
       "      <td>5.474937</td>\n",
       "      <td>0.469031</td>\n",
       "      <td>12</td>\n",
       "      <td>46.070328</td>\n",
       "      <td>4</td>\n",
       "      <td>4</td>\n",
       "      <td>1.943044</td>\n",
       "      <td>24.648778</td>\n",
       "      <td>428.492236</td>\n",
       "    </tr>\n",
       "    <tr>\n",
       "      <th>2</th>\n",
       "      <td>2021-01-25 06:26:00</td>\n",
       "      <td>1303.530558</td>\n",
       "      <td>1337.566142</td>\n",
       "      <td>16.648388</td>\n",
       "      <td>1201.219775</td>\n",
       "      <td>61.270498</td>\n",
       "      <td>1364.716003</td>\n",
       "      <td>11.446849</td>\n",
       "      <td>18.332985</td>\n",
       "      <td>230.622309</td>\n",
       "      <td>...</td>\n",
       "      <td>84.960106</td>\n",
       "      <td>8.092457</td>\n",
       "      <td>0.622318</td>\n",
       "      <td>3</td>\n",
       "      <td>39.989236</td>\n",
       "      <td>6</td>\n",
       "      <td>1</td>\n",
       "      <td>34.035583</td>\n",
       "      <td>50.829943</td>\n",
       "      <td>1323.774364</td>\n",
       "    </tr>\n",
       "    <tr>\n",
       "      <th>3</th>\n",
       "      <td>2021-10-30 03:47:00</td>\n",
       "      <td>61.494872</td>\n",
       "      <td>53.481008</td>\n",
       "      <td>28.388141</td>\n",
       "      <td>769.806122</td>\n",
       "      <td>40.674348</td>\n",
       "      <td>14.324897</td>\n",
       "      <td>34.253204</td>\n",
       "      <td>32.662889</td>\n",
       "      <td>66.211015</td>\n",
       "      <td>...</td>\n",
       "      <td>87.261119</td>\n",
       "      <td>4.071032</td>\n",
       "      <td>0.760719</td>\n",
       "      <td>10</td>\n",
       "      <td>46.056587</td>\n",
       "      <td>3</td>\n",
       "      <td>10</td>\n",
       "      <td>-8.013865</td>\n",
       "      <td>8.806516</td>\n",
       "      <td>90.363255</td>\n",
       "    </tr>\n",
       "    <tr>\n",
       "      <th>4</th>\n",
       "      <td>2021-03-15 00:39:00</td>\n",
       "      <td>593.514364</td>\n",
       "      <td>611.659108</td>\n",
       "      <td>31.519527</td>\n",
       "      <td>1046.916768</td>\n",
       "      <td>64.341763</td>\n",
       "      <td>599.020172</td>\n",
       "      <td>32.405586</td>\n",
       "      <td>31.466387</td>\n",
       "      <td>137.163938</td>\n",
       "      <td>...</td>\n",
       "      <td>313.724818</td>\n",
       "      <td>6.357943</td>\n",
       "      <td>0.346068</td>\n",
       "      <td>0</td>\n",
       "      <td>54.346095</td>\n",
       "      <td>0</td>\n",
       "      <td>3</td>\n",
       "      <td>18.144745</td>\n",
       "      <td>23.038483</td>\n",
       "      <td>609.157817</td>\n",
       "    </tr>\n",
       "  </tbody>\n",
       "</table>\n",
       "<p>5 rows × 21 columns</p>\n",
       "</div>"
      ],
      "text/plain": [
       "             timestamp  active_power_calculated_by_converter  \\\n",
       "0  2021-02-19 20:18:00                            816.636759   \n",
       "1  2021-04-27 04:55:00                            419.107829   \n",
       "2  2021-01-25 06:26:00                           1303.530558   \n",
       "3  2021-10-30 03:47:00                             61.494872   \n",
       "4  2021-03-15 00:39:00                            593.514364   \n",
       "\n",
       "   active_power_raw  ambient_temperature  generator_speed  \\\n",
       "0        834.917206            31.694380      1159.616602   \n",
       "1        421.050873            12.894948       928.747996   \n",
       "2       1337.566142            16.648388      1201.219775   \n",
       "3         53.481008            28.388141       769.806122   \n",
       "4        611.659108            31.519527      1046.916768   \n",
       "\n",
       "   generator_winding_temp_max  grid_power10min_average  nc1_inside_temp  \\\n",
       "0                   65.954214               917.897085        31.881972   \n",
       "1                   59.571319               445.554250        32.423705   \n",
       "2                   61.270498              1364.716003        11.446849   \n",
       "3                   40.674348                14.324897        34.253204   \n",
       "4                   64.341763               599.020172        32.405586   \n",
       "\n",
       "   nacelle_temp  reactice_power_calculated_by_converter  ...  \\\n",
       "0     31.504713                              141.457644  ...   \n",
       "1     32.755770                               89.186457  ...   \n",
       "2     18.332985                              230.622309  ...   \n",
       "3     32.662889                               66.211015  ...   \n",
       "4     31.466387                              137.163938  ...   \n",
       "\n",
       "   wind_direction_raw  wind_speed_raw  wind_speed_turbulence  turbine_id  \\\n",
       "0          280.864782        7.057000               0.544082           4   \n",
       "1          299.552460        5.474937               0.469031          12   \n",
       "2           84.960106        8.092457               0.622318           3   \n",
       "3           87.261119        4.071032               0.760719          10   \n",
       "4          313.724818        6.357943               0.346068           0   \n",
       "\n",
       "      Target  hour  month  active_power_loss  reactive_power_loss  \\\n",
       "0  47.582787    20      2          18.280446            24.043874   \n",
       "1  46.070328     4      4           1.943044            24.648778   \n",
       "2  39.989236     6      1          34.035583            50.829943   \n",
       "3  46.056587     3     10          -8.013865             8.806516   \n",
       "4  54.346095     0      3          18.144745            23.038483   \n",
       "\n",
       "   apparent_power  \n",
       "0      828.797841  \n",
       "1      428.492236  \n",
       "2     1323.774364  \n",
       "3       90.363255  \n",
       "4      609.157817  \n",
       "\n",
       "[5 rows x 21 columns]"
      ]
     },
     "execution_count": 49,
     "metadata": {},
     "output_type": "execute_result"
    }
   ],
   "source": [
    "train.head()"
   ]
  },
  {
   "cell_type": "code",
   "execution_count": 50,
   "id": "963c6122",
   "metadata": {},
   "outputs": [
    {
     "data": {
      "text/html": [
       "<div>\n",
       "<style scoped>\n",
       "    .dataframe tbody tr th:only-of-type {\n",
       "        vertical-align: middle;\n",
       "    }\n",
       "\n",
       "    .dataframe tbody tr th {\n",
       "        vertical-align: top;\n",
       "    }\n",
       "\n",
       "    .dataframe thead th {\n",
       "        text-align: right;\n",
       "    }\n",
       "</style>\n",
       "<table border=\"1\" class=\"dataframe\">\n",
       "  <thead>\n",
       "    <tr style=\"text-align: right;\">\n",
       "      <th></th>\n",
       "      <th>timestamp</th>\n",
       "      <th>active_power_calculated_by_converter</th>\n",
       "      <th>active_power_raw</th>\n",
       "      <th>ambient_temperature</th>\n",
       "      <th>generator_speed</th>\n",
       "      <th>generator_winding_temp_max</th>\n",
       "      <th>grid_power10min_average</th>\n",
       "      <th>nc1_inside_temp</th>\n",
       "      <th>nacelle_temp</th>\n",
       "      <th>reactice_power_calculated_by_converter</th>\n",
       "      <th>reactive_power</th>\n",
       "      <th>wind_direction_raw</th>\n",
       "      <th>wind_speed_raw</th>\n",
       "      <th>wind_speed_turbulence</th>\n",
       "      <th>turbine_id</th>\n",
       "      <th>hour</th>\n",
       "      <th>month</th>\n",
       "      <th>active_power_loss</th>\n",
       "      <th>reactive_power_loss</th>\n",
       "      <th>apparent_power</th>\n",
       "    </tr>\n",
       "  </thead>\n",
       "  <tbody>\n",
       "    <tr>\n",
       "      <th>0</th>\n",
       "      <td>2021-05-06 15:02:00</td>\n",
       "      <td>15.507537</td>\n",
       "      <td>19.956882</td>\n",
       "      <td>40.233264</td>\n",
       "      <td>410.538834</td>\n",
       "      <td>57.357366</td>\n",
       "      <td>84.008399</td>\n",
       "      <td>48.826597</td>\n",
       "      <td>45.363477</td>\n",
       "      <td>2.419202</td>\n",
       "      <td>1.468876</td>\n",
       "      <td>156.399396</td>\n",
       "      <td>2.438629</td>\n",
       "      <td>0.790435</td>\n",
       "      <td>9</td>\n",
       "      <td>15</td>\n",
       "      <td>5</td>\n",
       "      <td>4.449345</td>\n",
       "      <td>-0.950326</td>\n",
       "      <td>15.695102</td>\n",
       "    </tr>\n",
       "    <tr>\n",
       "      <th>1</th>\n",
       "      <td>2021-12-04 06:11:00</td>\n",
       "      <td>472.577255</td>\n",
       "      <td>478.373881</td>\n",
       "      <td>12.306687</td>\n",
       "      <td>965.077563</td>\n",
       "      <td>51.796727</td>\n",
       "      <td>492.531362</td>\n",
       "      <td>27.457511</td>\n",
       "      <td>24.045565</td>\n",
       "      <td>96.152070</td>\n",
       "      <td>119.378235</td>\n",
       "      <td>56.443802</td>\n",
       "      <td>5.900371</td>\n",
       "      <td>0.544198</td>\n",
       "      <td>13</td>\n",
       "      <td>6</td>\n",
       "      <td>12</td>\n",
       "      <td>5.796626</td>\n",
       "      <td>23.226164</td>\n",
       "      <td>482.259767</td>\n",
       "    </tr>\n",
       "    <tr>\n",
       "      <th>2</th>\n",
       "      <td>2021-08-31 19:03:00</td>\n",
       "      <td>447.829615</td>\n",
       "      <td>451.158264</td>\n",
       "      <td>29.106771</td>\n",
       "      <td>948.035899</td>\n",
       "      <td>60.493098</td>\n",
       "      <td>393.151576</td>\n",
       "      <td>39.410553</td>\n",
       "      <td>35.715697</td>\n",
       "      <td>90.251529</td>\n",
       "      <td>117.192635</td>\n",
       "      <td>224.540263</td>\n",
       "      <td>5.924923</td>\n",
       "      <td>0.513481</td>\n",
       "      <td>9</td>\n",
       "      <td>19</td>\n",
       "      <td>8</td>\n",
       "      <td>3.328649</td>\n",
       "      <td>26.941106</td>\n",
       "      <td>456.833342</td>\n",
       "    </tr>\n",
       "    <tr>\n",
       "      <th>3</th>\n",
       "      <td>2021-09-19 19:01:00</td>\n",
       "      <td>254.014336</td>\n",
       "      <td>249.438965</td>\n",
       "      <td>27.074900</td>\n",
       "      <td>804.963776</td>\n",
       "      <td>55.741899</td>\n",
       "      <td>178.715101</td>\n",
       "      <td>29.476841</td>\n",
       "      <td>31.151895</td>\n",
       "      <td>89.273838</td>\n",
       "      <td>105.086257</td>\n",
       "      <td>182.151426</td>\n",
       "      <td>4.409707</td>\n",
       "      <td>0.448881</td>\n",
       "      <td>5</td>\n",
       "      <td>19</td>\n",
       "      <td>9</td>\n",
       "      <td>-4.575371</td>\n",
       "      <td>15.812419</td>\n",
       "      <td>269.245429</td>\n",
       "    </tr>\n",
       "    <tr>\n",
       "      <th>4</th>\n",
       "      <td>2021-04-04 02:21:00</td>\n",
       "      <td>1174.930566</td>\n",
       "      <td>1202.654077</td>\n",
       "      <td>32.148434</td>\n",
       "      <td>1199.754858</td>\n",
       "      <td>67.272313</td>\n",
       "      <td>1115.850317</td>\n",
       "      <td>31.920549</td>\n",
       "      <td>30.864277</td>\n",
       "      <td>189.731989</td>\n",
       "      <td>236.053320</td>\n",
       "      <td>261.672180</td>\n",
       "      <td>7.822326</td>\n",
       "      <td>0.561465</td>\n",
       "      <td>11</td>\n",
       "      <td>2</td>\n",
       "      <td>4</td>\n",
       "      <td>27.723511</td>\n",
       "      <td>46.321332</td>\n",
       "      <td>1190.151278</td>\n",
       "    </tr>\n",
       "  </tbody>\n",
       "</table>\n",
       "</div>"
      ],
      "text/plain": [
       "             timestamp  active_power_calculated_by_converter  \\\n",
       "0  2021-05-06 15:02:00                             15.507537   \n",
       "1  2021-12-04 06:11:00                            472.577255   \n",
       "2  2021-08-31 19:03:00                            447.829615   \n",
       "3  2021-09-19 19:01:00                            254.014336   \n",
       "4  2021-04-04 02:21:00                           1174.930566   \n",
       "\n",
       "   active_power_raw  ambient_temperature  generator_speed  \\\n",
       "0         19.956882            40.233264       410.538834   \n",
       "1        478.373881            12.306687       965.077563   \n",
       "2        451.158264            29.106771       948.035899   \n",
       "3        249.438965            27.074900       804.963776   \n",
       "4       1202.654077            32.148434      1199.754858   \n",
       "\n",
       "   generator_winding_temp_max  grid_power10min_average  nc1_inside_temp  \\\n",
       "0                   57.357366                84.008399        48.826597   \n",
       "1                   51.796727               492.531362        27.457511   \n",
       "2                   60.493098               393.151576        39.410553   \n",
       "3                   55.741899               178.715101        29.476841   \n",
       "4                   67.272313              1115.850317        31.920549   \n",
       "\n",
       "   nacelle_temp  reactice_power_calculated_by_converter  reactive_power  \\\n",
       "0     45.363477                                2.419202        1.468876   \n",
       "1     24.045565                               96.152070      119.378235   \n",
       "2     35.715697                               90.251529      117.192635   \n",
       "3     31.151895                               89.273838      105.086257   \n",
       "4     30.864277                              189.731989      236.053320   \n",
       "\n",
       "   wind_direction_raw  wind_speed_raw  wind_speed_turbulence  turbine_id  \\\n",
       "0          156.399396        2.438629               0.790435           9   \n",
       "1           56.443802        5.900371               0.544198          13   \n",
       "2          224.540263        5.924923               0.513481           9   \n",
       "3          182.151426        4.409707               0.448881           5   \n",
       "4          261.672180        7.822326               0.561465          11   \n",
       "\n",
       "   hour  month  active_power_loss  reactive_power_loss  apparent_power  \n",
       "0    15      5           4.449345            -0.950326       15.695102  \n",
       "1     6     12           5.796626            23.226164      482.259767  \n",
       "2    19      8           3.328649            26.941106      456.833342  \n",
       "3    19      9          -4.575371            15.812419      269.245429  \n",
       "4     2      4          27.723511            46.321332     1190.151278  "
      ]
     },
     "execution_count": 50,
     "metadata": {},
     "output_type": "execute_result"
    }
   ],
   "source": [
    "test.head()"
   ]
  },
  {
   "cell_type": "code",
   "execution_count": 51,
   "id": "f4e4e637",
   "metadata": {},
   "outputs": [],
   "source": [
    "train=train.drop(['timestamp','Target'],axis=1)\n",
    "test=test.drop('timestamp',axis=1)"
   ]
  },
  {
   "cell_type": "code",
   "execution_count": 52,
   "id": "b52efdc4",
   "metadata": {},
   "outputs": [],
   "source": [
    "from sklearn.linear_model import LinearRegression as lr,RidgeCV as rcv,ElasticNet as en"
   ]
  },
  {
   "cell_type": "code",
   "execution_count": 53,
   "id": "d3656f99",
   "metadata": {},
   "outputs": [],
   "source": [
    "from sklearn.model_selection import train_test_split"
   ]
  },
  {
   "cell_type": "markdown",
   "id": "4c855023",
   "metadata": {},
   "source": [
    "### Standard Scaling"
   ]
  },
  {
   "cell_type": "code",
   "execution_count": 54,
   "id": "ee120d6d",
   "metadata": {},
   "outputs": [],
   "source": [
    "from sklearn.preprocessing import StandardScaler"
   ]
  },
  {
   "cell_type": "code",
   "execution_count": 55,
   "id": "5162cc92",
   "metadata": {},
   "outputs": [],
   "source": [
    "ss=StandardScaler().fit(train)"
   ]
  },
  {
   "cell_type": "code",
   "execution_count": 56,
   "id": "a8e82415",
   "metadata": {},
   "outputs": [],
   "source": [
    "train=pd.DataFrame(ss.transform(train),columns=train.columns)\n",
    "test=pd.DataFrame(ss.transform(test),columns=test.columns)"
   ]
  },
  {
   "cell_type": "markdown",
   "id": "a2a89c4c",
   "metadata": {},
   "source": [
    "### Forward Feature Selection"
   ]
  },
  {
   "cell_type": "code",
   "execution_count": 57,
   "id": "feb5f9e0",
   "metadata": {},
   "outputs": [],
   "source": [
    "from sklearn.tree import DecisionTreeRegressor"
   ]
  },
  {
   "cell_type": "code",
   "execution_count": 58,
   "id": "08dad25e",
   "metadata": {},
   "outputs": [],
   "source": [
    "sfs1=sfs(k_features=8,forward=True,estimator=DecisionTreeRegressor(),verbose=1,\n",
    "         scoring='neg_mean_absolute_percentage_error')"
   ]
  },
  {
   "cell_type": "code",
   "execution_count": 59,
   "id": "af10f6c1",
   "metadata": {},
   "outputs": [
    {
     "name": "stderr",
     "output_type": "stream",
     "text": [
      "[Parallel(n_jobs=1)]: Using backend SequentialBackend with 1 concurrent workers.\n",
      "[Parallel(n_jobs=1)]: Done  19 out of  19 | elapsed: 21.5min finished\n",
      "Features: 1/8[Parallel(n_jobs=1)]: Using backend SequentialBackend with 1 concurrent workers.\n",
      "[Parallel(n_jobs=1)]: Done  18 out of  18 | elapsed: 13.6min finished\n",
      "Features: 2/8[Parallel(n_jobs=1)]: Using backend SequentialBackend with 1 concurrent workers.\n",
      "[Parallel(n_jobs=1)]: Done  17 out of  17 | elapsed: 10.4min finished\n",
      "Features: 3/8[Parallel(n_jobs=1)]: Using backend SequentialBackend with 1 concurrent workers.\n",
      "[Parallel(n_jobs=1)]: Done  16 out of  16 | elapsed: 10.9min finished\n",
      "Features: 4/8[Parallel(n_jobs=1)]: Using backend SequentialBackend with 1 concurrent workers.\n",
      "[Parallel(n_jobs=1)]: Done  15 out of  15 | elapsed: 15.1min finished\n",
      "Features: 5/8[Parallel(n_jobs=1)]: Using backend SequentialBackend with 1 concurrent workers.\n",
      "[Parallel(n_jobs=1)]: Done  14 out of  14 | elapsed: 19.4min finished\n",
      "Features: 6/8[Parallel(n_jobs=1)]: Using backend SequentialBackend with 1 concurrent workers.\n",
      "[Parallel(n_jobs=1)]: Done  13 out of  13 | elapsed: 22.1min finished\n",
      "Features: 7/8[Parallel(n_jobs=1)]: Using backend SequentialBackend with 1 concurrent workers.\n",
      "[Parallel(n_jobs=1)]: Done  12 out of  12 | elapsed: 23.6min finished\n",
      "Features: 8/8"
     ]
    },
    {
     "data": {
      "text/html": [
       "<style>#sk-container-id-1 {color: black;background-color: white;}#sk-container-id-1 pre{padding: 0;}#sk-container-id-1 div.sk-toggleable {background-color: white;}#sk-container-id-1 label.sk-toggleable__label {cursor: pointer;display: block;width: 100%;margin-bottom: 0;padding: 0.3em;box-sizing: border-box;text-align: center;}#sk-container-id-1 label.sk-toggleable__label-arrow:before {content: \"▸\";float: left;margin-right: 0.25em;color: #696969;}#sk-container-id-1 label.sk-toggleable__label-arrow:hover:before {color: black;}#sk-container-id-1 div.sk-estimator:hover label.sk-toggleable__label-arrow:before {color: black;}#sk-container-id-1 div.sk-toggleable__content {max-height: 0;max-width: 0;overflow: hidden;text-align: left;background-color: #f0f8ff;}#sk-container-id-1 div.sk-toggleable__content pre {margin: 0.2em;color: black;border-radius: 0.25em;background-color: #f0f8ff;}#sk-container-id-1 input.sk-toggleable__control:checked~div.sk-toggleable__content {max-height: 200px;max-width: 100%;overflow: auto;}#sk-container-id-1 input.sk-toggleable__control:checked~label.sk-toggleable__label-arrow:before {content: \"▾\";}#sk-container-id-1 div.sk-estimator input.sk-toggleable__control:checked~label.sk-toggleable__label {background-color: #d4ebff;}#sk-container-id-1 div.sk-label input.sk-toggleable__control:checked~label.sk-toggleable__label {background-color: #d4ebff;}#sk-container-id-1 input.sk-hidden--visually {border: 0;clip: rect(1px 1px 1px 1px);clip: rect(1px, 1px, 1px, 1px);height: 1px;margin: -1px;overflow: hidden;padding: 0;position: absolute;width: 1px;}#sk-container-id-1 div.sk-estimator {font-family: monospace;background-color: #f0f8ff;border: 1px dotted black;border-radius: 0.25em;box-sizing: border-box;margin-bottom: 0.5em;}#sk-container-id-1 div.sk-estimator:hover {background-color: #d4ebff;}#sk-container-id-1 div.sk-parallel-item::after {content: \"\";width: 100%;border-bottom: 1px solid gray;flex-grow: 1;}#sk-container-id-1 div.sk-label:hover label.sk-toggleable__label {background-color: #d4ebff;}#sk-container-id-1 div.sk-serial::before {content: \"\";position: absolute;border-left: 1px solid gray;box-sizing: border-box;top: 0;bottom: 0;left: 50%;z-index: 0;}#sk-container-id-1 div.sk-serial {display: flex;flex-direction: column;align-items: center;background-color: white;padding-right: 0.2em;padding-left: 0.2em;position: relative;}#sk-container-id-1 div.sk-item {position: relative;z-index: 1;}#sk-container-id-1 div.sk-parallel {display: flex;align-items: stretch;justify-content: center;background-color: white;position: relative;}#sk-container-id-1 div.sk-item::before, #sk-container-id-1 div.sk-parallel-item::before {content: \"\";position: absolute;border-left: 1px solid gray;box-sizing: border-box;top: 0;bottom: 0;left: 50%;z-index: -1;}#sk-container-id-1 div.sk-parallel-item {display: flex;flex-direction: column;z-index: 1;position: relative;background-color: white;}#sk-container-id-1 div.sk-parallel-item:first-child::after {align-self: flex-end;width: 50%;}#sk-container-id-1 div.sk-parallel-item:last-child::after {align-self: flex-start;width: 50%;}#sk-container-id-1 div.sk-parallel-item:only-child::after {width: 0;}#sk-container-id-1 div.sk-dashed-wrapped {border: 1px dashed gray;margin: 0 0.4em 0.5em 0.4em;box-sizing: border-box;padding-bottom: 0.4em;background-color: white;}#sk-container-id-1 div.sk-label label {font-family: monospace;font-weight: bold;display: inline-block;line-height: 1.2em;}#sk-container-id-1 div.sk-label-container {text-align: center;}#sk-container-id-1 div.sk-container {/* jupyter's `normalize.less` sets `[hidden] { display: none; }` but bootstrap.min.css set `[hidden] { display: none !important; }` so we also need the `!important` here to be able to override the default hidden behavior on the sphinx rendered scikit-learn.org. See: https://github.com/scikit-learn/scikit-learn/issues/21755 */display: inline-block !important;position: relative;}#sk-container-id-1 div.sk-text-repr-fallback {display: none;}</style><div id=\"sk-container-id-1\" class=\"sk-top-container\"><div class=\"sk-text-repr-fallback\"><pre>SequentialFeatureSelector(estimator=DecisionTreeRegressor(), k_features=8,\n",
       "                          scoring=&#x27;neg_mean_absolute_percentage_error&#x27;,\n",
       "                          verbose=1)</pre><b>In a Jupyter environment, please rerun this cell to show the HTML representation or trust the notebook. <br />On GitHub, the HTML representation is unable to render, please try loading this page with nbviewer.org.</b></div><div class=\"sk-container\" hidden><div class=\"sk-item sk-dashed-wrapped\"><div class=\"sk-label-container\"><div class=\"sk-label sk-toggleable\"><input class=\"sk-toggleable__control sk-hidden--visually\" id=\"sk-estimator-id-1\" type=\"checkbox\" ><label for=\"sk-estimator-id-1\" class=\"sk-toggleable__label sk-toggleable__label-arrow\">SequentialFeatureSelector</label><div class=\"sk-toggleable__content\"><pre>SequentialFeatureSelector(estimator=DecisionTreeRegressor(), k_features=8,\n",
       "                          scoring=&#x27;neg_mean_absolute_percentage_error&#x27;,\n",
       "                          verbose=1)</pre></div></div></div><div class=\"sk-parallel\"><div class=\"sk-parallel-item\"><div class=\"sk-item\"><div class=\"sk-label-container\"><div class=\"sk-label sk-toggleable\"><input class=\"sk-toggleable__control sk-hidden--visually\" id=\"sk-estimator-id-2\" type=\"checkbox\" ><label for=\"sk-estimator-id-2\" class=\"sk-toggleable__label sk-toggleable__label-arrow\">estimator: DecisionTreeRegressor</label><div class=\"sk-toggleable__content\"><pre>DecisionTreeRegressor()</pre></div></div></div><div class=\"sk-serial\"><div class=\"sk-item\"><div class=\"sk-estimator sk-toggleable\"><input class=\"sk-toggleable__control sk-hidden--visually\" id=\"sk-estimator-id-3\" type=\"checkbox\" ><label for=\"sk-estimator-id-3\" class=\"sk-toggleable__label sk-toggleable__label-arrow\">DecisionTreeRegressor</label><div class=\"sk-toggleable__content\"><pre>DecisionTreeRegressor()</pre></div></div></div></div></div></div></div></div></div></div>"
      ],
      "text/plain": [
       "SequentialFeatureSelector(estimator=DecisionTreeRegressor(), k_features=8,\n",
       "                          scoring='neg_mean_absolute_percentage_error',\n",
       "                          verbose=1)"
      ]
     },
     "execution_count": 59,
     "metadata": {},
     "output_type": "execute_result"
    }
   ],
   "source": [
    "sfs1.fit(train,Target)"
   ]
  },
  {
   "cell_type": "markdown",
   "id": "00af8785",
   "metadata": {},
   "source": [
    "**Following is the features list:**"
   ]
  },
  {
   "cell_type": "code",
   "execution_count": 60,
   "id": "7a4b4f2e",
   "metadata": {},
   "outputs": [
    {
     "data": {
      "text/plain": [
       "['ambient_temperature',\n",
       " 'generator_winding_temp_max',\n",
       " 'grid_power10min_average',\n",
       " 'nc1_inside_temp',\n",
       " 'wind_direction_raw',\n",
       " 'turbine_id',\n",
       " 'hour',\n",
       " 'month']"
      ]
     },
     "execution_count": 60,
     "metadata": {},
     "output_type": "execute_result"
    }
   ],
   "source": [
    "sfs_feature_dt=list(sfs1.k_feature_names_)\n",
    "sfs_feature_dt"
   ]
  },
  {
   "cell_type": "code",
   "execution_count": 61,
   "id": "596c9d3e",
   "metadata": {},
   "outputs": [],
   "source": [
    "train1=train[sfs_feature_dt]\n",
    "test1=test[sfs_feature_dt]"
   ]
  },
  {
   "cell_type": "markdown",
   "id": "673c48c0",
   "metadata": {},
   "source": [
    "### Train Validation Split"
   ]
  },
  {
   "cell_type": "code",
   "execution_count": 62,
   "id": "e9167e77",
   "metadata": {},
   "outputs": [],
   "source": [
    "X_train,X_test,y_train,y_test=train_test_split(train1,Target,test_size=0.3,random_state=20)"
   ]
  },
  {
   "cell_type": "code",
   "execution_count": null,
   "id": "7ab960ca",
   "metadata": {},
   "outputs": [],
   "source": [
    "### Training model on various ml algorithms"
   ]
  },
  {
   "cell_type": "code",
   "execution_count": 63,
   "id": "83ae0400",
   "metadata": {},
   "outputs": [],
   "source": [
    "lr1=lr().fit(X_train,y_train) #linearRegression"
   ]
  },
  {
   "cell_type": "code",
   "execution_count": 64,
   "id": "e02772fb",
   "metadata": {},
   "outputs": [],
   "source": [
    "lr_val=lr1.predict(X_test)"
   ]
  },
  {
   "cell_type": "code",
   "execution_count": 65,
   "id": "b8ae431c",
   "metadata": {},
   "outputs": [],
   "source": [
    "from sklearn.metrics import mean_absolute_percentage_error as mape"
   ]
  },
  {
   "cell_type": "code",
   "execution_count": 66,
   "id": "4ee90d4a",
   "metadata": {},
   "outputs": [
    {
     "data": {
      "text/plain": [
       "0.031361300887430964"
      ]
     },
     "execution_count": 66,
     "metadata": {},
     "output_type": "execute_result"
    }
   ],
   "source": [
    "mape(y_test,lr_val)"
   ]
  },
  {
   "cell_type": "code",
   "execution_count": 67,
   "id": "f9bcf2d2",
   "metadata": {},
   "outputs": [],
   "source": [
    "rcv1=rcv().fit(X_train,y_train)# RidgeCV"
   ]
  },
  {
   "cell_type": "code",
   "execution_count": 68,
   "id": "fc782b1a",
   "metadata": {},
   "outputs": [],
   "source": [
    "rcv_val=rcv1.predict(X_test)"
   ]
  },
  {
   "cell_type": "code",
   "execution_count": 69,
   "id": "942f3462",
   "metadata": {},
   "outputs": [
    {
     "data": {
      "text/plain": [
       "0.03136129325343164"
      ]
     },
     "execution_count": 69,
     "metadata": {},
     "output_type": "execute_result"
    }
   ],
   "source": [
    "mape(y_test,rcv_val)"
   ]
  },
  {
   "cell_type": "code",
   "execution_count": 70,
   "id": "1a1ca6d3",
   "metadata": {},
   "outputs": [],
   "source": [
    "en1=en().fit(X_train,y_train) #ElasticNet"
   ]
  },
  {
   "cell_type": "code",
   "execution_count": 71,
   "id": "a202e96d",
   "metadata": {},
   "outputs": [],
   "source": [
    "en_val=en1.predict(X_test)"
   ]
  },
  {
   "cell_type": "code",
   "execution_count": 72,
   "id": "cbc5a000",
   "metadata": {},
   "outputs": [
    {
     "data": {
      "text/plain": [
       "0.03785461843808553"
      ]
     },
     "execution_count": 72,
     "metadata": {},
     "output_type": "execute_result"
    }
   ],
   "source": [
    "mape(y_test,en_val)"
   ]
  },
  {
   "cell_type": "code",
   "execution_count": 92,
   "id": "056dcb0d",
   "metadata": {},
   "outputs": [],
   "source": [
    "dtr=DecisionTreeRegressor() #decisionTree"
   ]
  },
  {
   "cell_type": "code",
   "execution_count": 93,
   "id": "6f52852a",
   "metadata": {},
   "outputs": [
    {
     "data": {
      "text/html": [
       "<style>#sk-container-id-4 {color: black;background-color: white;}#sk-container-id-4 pre{padding: 0;}#sk-container-id-4 div.sk-toggleable {background-color: white;}#sk-container-id-4 label.sk-toggleable__label {cursor: pointer;display: block;width: 100%;margin-bottom: 0;padding: 0.3em;box-sizing: border-box;text-align: center;}#sk-container-id-4 label.sk-toggleable__label-arrow:before {content: \"▸\";float: left;margin-right: 0.25em;color: #696969;}#sk-container-id-4 label.sk-toggleable__label-arrow:hover:before {color: black;}#sk-container-id-4 div.sk-estimator:hover label.sk-toggleable__label-arrow:before {color: black;}#sk-container-id-4 div.sk-toggleable__content {max-height: 0;max-width: 0;overflow: hidden;text-align: left;background-color: #f0f8ff;}#sk-container-id-4 div.sk-toggleable__content pre {margin: 0.2em;color: black;border-radius: 0.25em;background-color: #f0f8ff;}#sk-container-id-4 input.sk-toggleable__control:checked~div.sk-toggleable__content {max-height: 200px;max-width: 100%;overflow: auto;}#sk-container-id-4 input.sk-toggleable__control:checked~label.sk-toggleable__label-arrow:before {content: \"▾\";}#sk-container-id-4 div.sk-estimator input.sk-toggleable__control:checked~label.sk-toggleable__label {background-color: #d4ebff;}#sk-container-id-4 div.sk-label input.sk-toggleable__control:checked~label.sk-toggleable__label {background-color: #d4ebff;}#sk-container-id-4 input.sk-hidden--visually {border: 0;clip: rect(1px 1px 1px 1px);clip: rect(1px, 1px, 1px, 1px);height: 1px;margin: -1px;overflow: hidden;padding: 0;position: absolute;width: 1px;}#sk-container-id-4 div.sk-estimator {font-family: monospace;background-color: #f0f8ff;border: 1px dotted black;border-radius: 0.25em;box-sizing: border-box;margin-bottom: 0.5em;}#sk-container-id-4 div.sk-estimator:hover {background-color: #d4ebff;}#sk-container-id-4 div.sk-parallel-item::after {content: \"\";width: 100%;border-bottom: 1px solid gray;flex-grow: 1;}#sk-container-id-4 div.sk-label:hover label.sk-toggleable__label {background-color: #d4ebff;}#sk-container-id-4 div.sk-serial::before {content: \"\";position: absolute;border-left: 1px solid gray;box-sizing: border-box;top: 0;bottom: 0;left: 50%;z-index: 0;}#sk-container-id-4 div.sk-serial {display: flex;flex-direction: column;align-items: center;background-color: white;padding-right: 0.2em;padding-left: 0.2em;position: relative;}#sk-container-id-4 div.sk-item {position: relative;z-index: 1;}#sk-container-id-4 div.sk-parallel {display: flex;align-items: stretch;justify-content: center;background-color: white;position: relative;}#sk-container-id-4 div.sk-item::before, #sk-container-id-4 div.sk-parallel-item::before {content: \"\";position: absolute;border-left: 1px solid gray;box-sizing: border-box;top: 0;bottom: 0;left: 50%;z-index: -1;}#sk-container-id-4 div.sk-parallel-item {display: flex;flex-direction: column;z-index: 1;position: relative;background-color: white;}#sk-container-id-4 div.sk-parallel-item:first-child::after {align-self: flex-end;width: 50%;}#sk-container-id-4 div.sk-parallel-item:last-child::after {align-self: flex-start;width: 50%;}#sk-container-id-4 div.sk-parallel-item:only-child::after {width: 0;}#sk-container-id-4 div.sk-dashed-wrapped {border: 1px dashed gray;margin: 0 0.4em 0.5em 0.4em;box-sizing: border-box;padding-bottom: 0.4em;background-color: white;}#sk-container-id-4 div.sk-label label {font-family: monospace;font-weight: bold;display: inline-block;line-height: 1.2em;}#sk-container-id-4 div.sk-label-container {text-align: center;}#sk-container-id-4 div.sk-container {/* jupyter's `normalize.less` sets `[hidden] { display: none; }` but bootstrap.min.css set `[hidden] { display: none !important; }` so we also need the `!important` here to be able to override the default hidden behavior on the sphinx rendered scikit-learn.org. See: https://github.com/scikit-learn/scikit-learn/issues/21755 */display: inline-block !important;position: relative;}#sk-container-id-4 div.sk-text-repr-fallback {display: none;}</style><div id=\"sk-container-id-4\" class=\"sk-top-container\"><div class=\"sk-text-repr-fallback\"><pre>DecisionTreeRegressor()</pre><b>In a Jupyter environment, please rerun this cell to show the HTML representation or trust the notebook. <br />On GitHub, the HTML representation is unable to render, please try loading this page with nbviewer.org.</b></div><div class=\"sk-container\" hidden><div class=\"sk-item\"><div class=\"sk-estimator sk-toggleable\"><input class=\"sk-toggleable__control sk-hidden--visually\" id=\"sk-estimator-id-6\" type=\"checkbox\" checked><label for=\"sk-estimator-id-6\" class=\"sk-toggleable__label sk-toggleable__label-arrow\">DecisionTreeRegressor</label><div class=\"sk-toggleable__content\"><pre>DecisionTreeRegressor()</pre></div></div></div></div></div>"
      ],
      "text/plain": [
       "DecisionTreeRegressor()"
      ]
     },
     "execution_count": 93,
     "metadata": {},
     "output_type": "execute_result"
    }
   ],
   "source": [
    "dtr.fit(X_train,y_train)"
   ]
  },
  {
   "cell_type": "code",
   "execution_count": 94,
   "id": "63c9894d",
   "metadata": {},
   "outputs": [],
   "source": [
    "dtr_val=dtr.predict(X_test)"
   ]
  },
  {
   "cell_type": "code",
   "execution_count": 95,
   "id": "d20e9cf7",
   "metadata": {},
   "outputs": [
    {
     "data": {
      "text/plain": [
       "0.008250804023255173"
      ]
     },
     "execution_count": 95,
     "metadata": {},
     "output_type": "execute_result"
    }
   ],
   "source": [
    "mape(y_test,dtr_val)"
   ]
  },
  {
   "cell_type": "code",
   "execution_count": 78,
   "id": "713d2a31",
   "metadata": {},
   "outputs": [],
   "source": [
    "from sklearn.ensemble import RandomForestRegressor "
   ]
  },
  {
   "cell_type": "code",
   "execution_count": 79,
   "id": "3bb5a9c0",
   "metadata": {},
   "outputs": [],
   "source": [
    "rf=RandomForestRegressor()# RandomForest"
   ]
  },
  {
   "cell_type": "code",
   "execution_count": 80,
   "id": "1585dd98",
   "metadata": {},
   "outputs": [
    {
     "data": {
      "text/html": [
       "<style>#sk-container-id-2 {color: black;background-color: white;}#sk-container-id-2 pre{padding: 0;}#sk-container-id-2 div.sk-toggleable {background-color: white;}#sk-container-id-2 label.sk-toggleable__label {cursor: pointer;display: block;width: 100%;margin-bottom: 0;padding: 0.3em;box-sizing: border-box;text-align: center;}#sk-container-id-2 label.sk-toggleable__label-arrow:before {content: \"▸\";float: left;margin-right: 0.25em;color: #696969;}#sk-container-id-2 label.sk-toggleable__label-arrow:hover:before {color: black;}#sk-container-id-2 div.sk-estimator:hover label.sk-toggleable__label-arrow:before {color: black;}#sk-container-id-2 div.sk-toggleable__content {max-height: 0;max-width: 0;overflow: hidden;text-align: left;background-color: #f0f8ff;}#sk-container-id-2 div.sk-toggleable__content pre {margin: 0.2em;color: black;border-radius: 0.25em;background-color: #f0f8ff;}#sk-container-id-2 input.sk-toggleable__control:checked~div.sk-toggleable__content {max-height: 200px;max-width: 100%;overflow: auto;}#sk-container-id-2 input.sk-toggleable__control:checked~label.sk-toggleable__label-arrow:before {content: \"▾\";}#sk-container-id-2 div.sk-estimator input.sk-toggleable__control:checked~label.sk-toggleable__label {background-color: #d4ebff;}#sk-container-id-2 div.sk-label input.sk-toggleable__control:checked~label.sk-toggleable__label {background-color: #d4ebff;}#sk-container-id-2 input.sk-hidden--visually {border: 0;clip: rect(1px 1px 1px 1px);clip: rect(1px, 1px, 1px, 1px);height: 1px;margin: -1px;overflow: hidden;padding: 0;position: absolute;width: 1px;}#sk-container-id-2 div.sk-estimator {font-family: monospace;background-color: #f0f8ff;border: 1px dotted black;border-radius: 0.25em;box-sizing: border-box;margin-bottom: 0.5em;}#sk-container-id-2 div.sk-estimator:hover {background-color: #d4ebff;}#sk-container-id-2 div.sk-parallel-item::after {content: \"\";width: 100%;border-bottom: 1px solid gray;flex-grow: 1;}#sk-container-id-2 div.sk-label:hover label.sk-toggleable__label {background-color: #d4ebff;}#sk-container-id-2 div.sk-serial::before {content: \"\";position: absolute;border-left: 1px solid gray;box-sizing: border-box;top: 0;bottom: 0;left: 50%;z-index: 0;}#sk-container-id-2 div.sk-serial {display: flex;flex-direction: column;align-items: center;background-color: white;padding-right: 0.2em;padding-left: 0.2em;position: relative;}#sk-container-id-2 div.sk-item {position: relative;z-index: 1;}#sk-container-id-2 div.sk-parallel {display: flex;align-items: stretch;justify-content: center;background-color: white;position: relative;}#sk-container-id-2 div.sk-item::before, #sk-container-id-2 div.sk-parallel-item::before {content: \"\";position: absolute;border-left: 1px solid gray;box-sizing: border-box;top: 0;bottom: 0;left: 50%;z-index: -1;}#sk-container-id-2 div.sk-parallel-item {display: flex;flex-direction: column;z-index: 1;position: relative;background-color: white;}#sk-container-id-2 div.sk-parallel-item:first-child::after {align-self: flex-end;width: 50%;}#sk-container-id-2 div.sk-parallel-item:last-child::after {align-self: flex-start;width: 50%;}#sk-container-id-2 div.sk-parallel-item:only-child::after {width: 0;}#sk-container-id-2 div.sk-dashed-wrapped {border: 1px dashed gray;margin: 0 0.4em 0.5em 0.4em;box-sizing: border-box;padding-bottom: 0.4em;background-color: white;}#sk-container-id-2 div.sk-label label {font-family: monospace;font-weight: bold;display: inline-block;line-height: 1.2em;}#sk-container-id-2 div.sk-label-container {text-align: center;}#sk-container-id-2 div.sk-container {/* jupyter's `normalize.less` sets `[hidden] { display: none; }` but bootstrap.min.css set `[hidden] { display: none !important; }` so we also need the `!important` here to be able to override the default hidden behavior on the sphinx rendered scikit-learn.org. See: https://github.com/scikit-learn/scikit-learn/issues/21755 */display: inline-block !important;position: relative;}#sk-container-id-2 div.sk-text-repr-fallback {display: none;}</style><div id=\"sk-container-id-2\" class=\"sk-top-container\"><div class=\"sk-text-repr-fallback\"><pre>RandomForestRegressor()</pre><b>In a Jupyter environment, please rerun this cell to show the HTML representation or trust the notebook. <br />On GitHub, the HTML representation is unable to render, please try loading this page with nbviewer.org.</b></div><div class=\"sk-container\" hidden><div class=\"sk-item\"><div class=\"sk-estimator sk-toggleable\"><input class=\"sk-toggleable__control sk-hidden--visually\" id=\"sk-estimator-id-4\" type=\"checkbox\" checked><label for=\"sk-estimator-id-4\" class=\"sk-toggleable__label sk-toggleable__label-arrow\">RandomForestRegressor</label><div class=\"sk-toggleable__content\"><pre>RandomForestRegressor()</pre></div></div></div></div></div>"
      ],
      "text/plain": [
       "RandomForestRegressor()"
      ]
     },
     "execution_count": 80,
     "metadata": {},
     "output_type": "execute_result"
    }
   ],
   "source": [
    "rf.fit(X_train,y_train)"
   ]
  },
  {
   "cell_type": "code",
   "execution_count": 81,
   "id": "befdc25d",
   "metadata": {},
   "outputs": [],
   "source": [
    "rf_val=rf.predict(X_test)"
   ]
  },
  {
   "cell_type": "code",
   "execution_count": 82,
   "id": "384b06a4",
   "metadata": {},
   "outputs": [
    {
     "data": {
      "text/plain": [
       "0.007288942018512916"
      ]
     },
     "execution_count": 82,
     "metadata": {},
     "output_type": "execute_result"
    }
   ],
   "source": [
    "mape(y_test,rf_val)"
   ]
  },
  {
   "cell_type": "code",
   "execution_count": 83,
   "id": "d621fc01",
   "metadata": {},
   "outputs": [],
   "source": [
    "from sklearn.ensemble import ExtraTreesRegressor"
   ]
  },
  {
   "cell_type": "code",
   "execution_count": 84,
   "id": "1ec18cdb",
   "metadata": {},
   "outputs": [],
   "source": [
    "etr=ExtraTreesRegressor()"
   ]
  },
  {
   "cell_type": "code",
   "execution_count": null,
   "id": "8858ae19",
   "metadata": {},
   "outputs": [],
   "source": [
    "etr.fit(X_train,y_train)#Extratreeregressor"
   ]
  },
  {
   "cell_type": "markdown",
   "id": "d0e356a1",
   "metadata": {},
   "source": [
    "### Feature Importance"
   ]
  },
  {
   "cell_type": "code",
   "execution_count": 86,
   "id": "3aefbb26",
   "metadata": {},
   "outputs": [],
   "source": [
    "featuresimp_value=etr.feature_importances_"
   ]
  },
  {
   "cell_type": "code",
   "execution_count": 87,
   "id": "30ec3a31",
   "metadata": {},
   "outputs": [
    {
     "data": {
      "text/plain": [
       "array([0.19798046, 0.06091976, 0.04009326, 0.05659086, 0.05927591,\n",
       "       0.23360787, 0.07355027, 0.27798162])"
      ]
     },
     "execution_count": 87,
     "metadata": {},
     "output_type": "execute_result"
    }
   ],
   "source": [
    "featuresimp_value"
   ]
  },
  {
   "cell_type": "code",
   "execution_count": 88,
   "id": "9787da43",
   "metadata": {},
   "outputs": [
    {
     "data": {
      "text/plain": [
       "<AxesSubplot:>"
      ]
     },
     "execution_count": 88,
     "metadata": {},
     "output_type": "execute_result"
    },
    {
     "data": {
      "image/png": "[encoded data removed]",
      "text/plain": [
       "<Figure size 432x288 with 1 Axes>"
      ]
     },
     "metadata": {
      "needs_background": "light"
     },
     "output_type": "display_data"
    }
   ],
   "source": [
    "sns.barplot(y=train1.columns,x=featuresimp_value)"
   ]
  },
  {
   "cell_type": "code",
   "execution_count": 89,
   "id": "29984c1c",
   "metadata": {},
   "outputs": [],
   "source": [
    "etr_val=etr.predict(X_test)"
   ]
  },
  {
   "cell_type": "code",
   "execution_count": 90,
   "id": "6a59eaeb",
   "metadata": {},
   "outputs": [
    {
     "data": {
      "text/plain": [
       "0.00551289450037929"
      ]
     },
     "execution_count": 90,
     "metadata": {},
     "output_type": "execute_result"
    }
   ],
   "source": [
    "mape(y_test,etr_val)"
   ]
  },
  {
   "cell_type": "markdown",
   "id": "999fdc31",
   "metadata": {},
   "source": [
    "### final predictions"
   ]
  },
  {
   "cell_type": "code",
   "execution_count": 90,
   "id": "3f0dfbe5",
   "metadata": {},
   "outputs": [],
   "source": [
    "test_pred=etr.predict(test1)"
   ]
  },
  {
   "cell_type": "code",
   "execution_count": 91,
   "id": "10ce568e",
   "metadata": {},
   "outputs": [
    {
     "data": {
      "text/html": [
       "<div>\n",
       "<style scoped>\n",
       "    .dataframe tbody tr th:only-of-type {\n",
       "        vertical-align: middle;\n",
       "    }\n",
       "\n",
       "    .dataframe tbody tr th {\n",
       "        vertical-align: top;\n",
       "    }\n",
       "\n",
       "    .dataframe thead th {\n",
       "        text-align: right;\n",
       "    }\n",
       "</style>\n",
       "<table border=\"1\" class=\"dataframe\">\n",
       "  <thead>\n",
       "    <tr style=\"text-align: right;\">\n",
       "      <th></th>\n",
       "      <th>Target</th>\n",
       "    </tr>\n",
       "  </thead>\n",
       "  <tbody>\n",
       "    <tr>\n",
       "      <th>0</th>\n",
       "      <td>0.0</td>\n",
       "    </tr>\n",
       "    <tr>\n",
       "      <th>1</th>\n",
       "      <td>0.0</td>\n",
       "    </tr>\n",
       "    <tr>\n",
       "      <th>2</th>\n",
       "      <td>0.0</td>\n",
       "    </tr>\n",
       "    <tr>\n",
       "      <th>3</th>\n",
       "      <td>0.0</td>\n",
       "    </tr>\n",
       "    <tr>\n",
       "      <th>4</th>\n",
       "      <td>0.0</td>\n",
       "    </tr>\n",
       "  </tbody>\n",
       "</table>\n",
       "</div>"
      ],
      "text/plain": [
       "   Target\n",
       "0     0.0\n",
       "1     0.0\n",
       "2     0.0\n",
       "3     0.0\n",
       "4     0.0"
      ]
     },
     "execution_count": 91,
     "metadata": {},
     "output_type": "execute_result"
    }
   ],
   "source": [
    "submission.head()"
   ]
  },
  {
   "cell_type": "code",
   "execution_count": 92,
   "id": "12e3870a",
   "metadata": {},
   "outputs": [],
   "source": [
    "submission['Target']=test_pred"
   ]
  },
  {
   "cell_type": "code",
   "execution_count": 93,
   "id": "b6a59b24",
   "metadata": {},
   "outputs": [],
   "source": [
    "submission.to_csv(\"rph3_1_xtratree.csv\",index=False)"
   ]
  }
 ],
 "metadata": {
  "kernelspec": {
   "display_name": "Python 3 (ipykernel)",
   "language": "python",
   "name": "python3"
  },
  "language_info": {
   "codemirror_mode": {
    "name": "ipython",
    "version": 3
   },
   "file_extension": ".py",
   "mimetype": "text/x-python",
   "name": "python",
   "nbconvert_exporter": "python",
   "pygments_lexer": "ipython3",
   "version": "3.8.13"
  }
 },
 "nbformat": 4,
 "nbformat_minor": 5
}
